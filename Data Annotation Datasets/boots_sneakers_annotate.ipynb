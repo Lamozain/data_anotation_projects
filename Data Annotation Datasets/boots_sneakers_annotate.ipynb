{
 "cells": [
  {
   "cell_type": "code",
   "execution_count": 2,
   "id": "f008146c-8469-4d4e-81a7-57b4298cabd6",
   "metadata": {},
   "outputs": [],
   "source": [
    "import os\n",
    "from pigeon import annotate\n",
    "from IPython.display import display, Image"
   ]
  },
  {
   "cell_type": "code",
   "execution_count": 3,
   "id": "f14f07bd-5b72-464b-a956-9d5053a0e5a8",
   "metadata": {},
   "outputs": [],
   "source": [
    "folder_path = r\"C:\\Users\\HP\\Desktop\\amos_office\\amos_data\\Ex_Files_Hands_on_Data_Applied_Machine_Learning\\Exercise Files\\Data Annotation Datasets\\Boots and Sneakers Dataset\"\n",
    "image_names = os.listdir(folder_path)\n",
    "image_paths = [os.path.join(folder_path,image_name) for image_name in image_names]"
   ]
  },
  {
   "cell_type": "code",
   "execution_count": 4,
   "id": "0b4a1e39-476e-407f-9c28-62d3ac8b95f4",
   "metadata": {},
   "outputs": [
    {
     "data": {
      "text/plain": [
       "45"
      ]
     },
     "execution_count": 4,
     "metadata": {},
     "output_type": "execute_result"
    }
   ],
   "source": [
    "len(image_paths)"
   ]
  },
  {
   "cell_type": "code",
   "execution_count": 5,
   "id": "0c951df6-7725-4d46-a9a0-7e27794f26c7",
   "metadata": {},
   "outputs": [],
   "source": [
    "label_options = ['boots','sneakers']"
   ]
  },
  {
   "cell_type": "code",
   "execution_count": 6,
   "id": "916b5fe4-0771-4d55-8f93-8624b2ba65ba",
   "metadata": {
    "scrolled": true
   },
   "outputs": [
    {
     "data": {
      "application/vnd.jupyter.widget-view+json": {
       "model_id": "588fffec3ecb468baf2bf5738dfa16bc",
       "version_major": 2,
       "version_minor": 0
      },
      "text/plain": [
       "HTML(value='0 examples annotated, 46 examples left')"
      ]
     },
     "metadata": {},
     "output_type": "display_data"
    },
    {
     "data": {
      "application/vnd.jupyter.widget-view+json": {
       "model_id": "cfc5b974691540e08de614f2a7a79f14",
       "version_major": 2,
       "version_minor": 0
      },
      "text/plain": [
       "HBox(children=(Button(description='boots', style=ButtonStyle()), Button(description='sneakers', style=ButtonSt…"
      ]
     },
     "metadata": {},
     "output_type": "display_data"
    },
    {
     "data": {
      "application/vnd.jupyter.widget-view+json": {
       "model_id": "851273006341439f943d4bdf9e0f0f79",
       "version_major": 2,
       "version_minor": 0
      },
      "text/plain": [
       "Output()"
      ]
     },
     "metadata": {},
     "output_type": "display_data"
    }
   ],
   "source": [
    "annotations = annotate(image_paths, options=label_options,display_fn=lambda filename: display(Image(filename)))"
   ]
  },
  {
   "cell_type": "code",
   "execution_count": 13,
   "id": "2ecf0d5c-8182-4ecd-a7e0-68b774295e42",
   "metadata": {},
   "outputs": [],
   "source": [
    "import pandas as pd\n",
    "# Convert to a DataFrame\n",
    "df = pd.DataFrame(annotations, columns=['image_path', 'label'])\n",
    "\n",
    "# Save to CSV\n",
    "df.to_csv('boots_sneakers.csv', index=False)"
   ]
  },
  {
   "cell_type": "code",
   "execution_count": 14,
   "id": "21f63c64-f8f1-47a0-baa5-1c199a631eec",
   "metadata": {},
   "outputs": [
    {
     "data": {
      "text/html": [
       "<div>\n",
       "<style scoped>\n",
       "    .dataframe tbody tr th:only-of-type {\n",
       "        vertical-align: middle;\n",
       "    }\n",
       "\n",
       "    .dataframe tbody tr th {\n",
       "        vertical-align: top;\n",
       "    }\n",
       "\n",
       "    .dataframe thead th {\n",
       "        text-align: right;\n",
       "    }\n",
       "</style>\n",
       "<table border=\"1\" class=\"dataframe\">\n",
       "  <thead>\n",
       "    <tr style=\"text-align: right;\">\n",
       "      <th></th>\n",
       "      <th>image_path</th>\n",
       "      <th>label</th>\n",
       "    </tr>\n",
       "  </thead>\n",
       "  <tbody>\n",
       "    <tr>\n",
       "      <th>0</th>\n",
       "      <td>C:\\Users\\HP\\Desktop\\amos_office\\amos_data\\Ex_F...</td>\n",
       "      <td>boots</td>\n",
       "    </tr>\n",
       "    <tr>\n",
       "      <th>1</th>\n",
       "      <td>C:\\Users\\HP\\Desktop\\amos_office\\amos_data\\Ex_F...</td>\n",
       "      <td>sneakers</td>\n",
       "    </tr>\n",
       "    <tr>\n",
       "      <th>2</th>\n",
       "      <td>C:\\Users\\HP\\Desktop\\amos_office\\amos_data\\Ex_F...</td>\n",
       "      <td>sneakers</td>\n",
       "    </tr>\n",
       "    <tr>\n",
       "      <th>3</th>\n",
       "      <td>C:\\Users\\HP\\Desktop\\amos_office\\amos_data\\Ex_F...</td>\n",
       "      <td>sneakers</td>\n",
       "    </tr>\n",
       "    <tr>\n",
       "      <th>4</th>\n",
       "      <td>C:\\Users\\HP\\Desktop\\amos_office\\amos_data\\Ex_F...</td>\n",
       "      <td>boots</td>\n",
       "    </tr>\n",
       "  </tbody>\n",
       "</table>\n",
       "</div>"
      ],
      "text/plain": [
       "                                          image_path     label\n",
       "0  C:\\Users\\HP\\Desktop\\amos_office\\amos_data\\Ex_F...     boots\n",
       "1  C:\\Users\\HP\\Desktop\\amos_office\\amos_data\\Ex_F...  sneakers\n",
       "2  C:\\Users\\HP\\Desktop\\amos_office\\amos_data\\Ex_F...  sneakers\n",
       "3  C:\\Users\\HP\\Desktop\\amos_office\\amos_data\\Ex_F...  sneakers\n",
       "4  C:\\Users\\HP\\Desktop\\amos_office\\amos_data\\Ex_F...     boots"
      ]
     },
     "execution_count": 14,
     "metadata": {},
     "output_type": "execute_result"
    }
   ],
   "source": [
    "df.head()"
   ]
  },
  {
   "cell_type": "code",
   "execution_count": null,
   "id": "57c55fb0-f979-4199-a928-f19704bad870",
   "metadata": {},
   "outputs": [],
   "source": []
  }
 ],
 "metadata": {
  "kernelspec": {
   "display_name": "Python 3 (ipykernel)",
   "language": "python",
   "name": "python3"
  },
  "language_info": {
   "codemirror_mode": {
    "name": "ipython",
    "version": 3
   },
   "file_extension": ".py",
   "mimetype": "text/x-python",
   "name": "python",
   "nbconvert_exporter": "python",
   "pygments_lexer": "ipython3",
   "version": "3.13.2"
  }
 },
 "nbformat": 4,
 "nbformat_minor": 5
}
